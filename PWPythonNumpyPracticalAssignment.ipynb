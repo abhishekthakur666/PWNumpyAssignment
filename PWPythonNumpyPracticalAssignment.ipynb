{
  "nbformat": 4,
  "nbformat_minor": 0,
  "metadata": {
    "colab": {
      "provenance": [],
      "authorship_tag": "ABX9TyNhAxlltzEfx4CQH6j3tmyY"
    },
    "kernelspec": {
      "name": "python3",
      "display_name": "Python 3"
    },
    "language_info": {
      "name": "python"
    }
  },
  "cells": [
    {
      "cell_type": "markdown",
      "source": [
        "1. Create a 3x3 NumPy array with random integers between 1 and 100. Then, interchange its rows and columns."
      ],
      "metadata": {
        "id": "NLjhjf-lanvm"
      }
    },
    {
      "cell_type": "code",
      "source": [
        "import numpy as np\n",
        "\n",
        "# Create a 3x3 NumPy array with random integers between 1 and 100.\n",
        "array = np.random.randint(1, 101, size=(3, 3))\n",
        "\n",
        "print(\"Original array:\")\n",
        "print(array)\n",
        "\n",
        "# Interchange rows and columns using transpose.\n",
        "transposed_array = array.transpose()\n",
        "\n",
        "print(\"\\nArray with rows and columns interchanged:\")\n",
        "print(transposed_array)\n"
      ],
      "metadata": {
        "colab": {
          "base_uri": "https://localhost:8080/"
        },
        "id": "6MP5v3XAaoJR",
        "outputId": "4ab02d9c-9446-4701-fb1f-42ebc008eb1d"
      },
      "execution_count": 22,
      "outputs": [
        {
          "output_type": "stream",
          "name": "stdout",
          "text": [
            "Original array:\n",
            "[[19 25 30]\n",
            " [10 65 80]\n",
            " [ 9 46 22]]\n",
            "\n",
            "Array with rows and columns interchanged:\n",
            "[[19 10  9]\n",
            " [25 65 46]\n",
            " [30 80 22]]\n"
          ]
        }
      ]
    },
    {
      "cell_type": "markdown",
      "source": [
        "2. Generate a 1D NumPy array with 10 elements. Reshape it into a 2x5 array, then into a 5x2 array"
      ],
      "metadata": {
        "id": "sMrPVvLea0S-"
      }
    },
    {
      "cell_type": "code",
      "source": [
        "import numpy as np\n",
        "\n",
        "# Generate a 1D NumPy array with 10 elements.\n",
        "array_1d = np.arange(10)\n",
        "\n",
        "print(\"Original 1D array:\")\n",
        "print(array_1d)\n",
        "\n",
        "# Reshape it into a 2x5 array.\n",
        "array_2x5 = array_1d.reshape(2, 5)\n",
        "\n",
        "print(\"\\nReshaped into a 2x5 array:\")\n",
        "print(array_2x5)\n",
        "\n",
        "# Reshape it into a 5x2 array.\n",
        "array_5x2 = array_1d.reshape(5, 2)\n",
        "\n",
        "print(\"\\nReshaped into a 5x2 array:\")\n",
        "print(array_5x2)\n"
      ],
      "metadata": {
        "colab": {
          "base_uri": "https://localhost:8080/"
        },
        "id": "oroksZTQa3AK",
        "outputId": "675e7178-05df-40db-c38b-a8ffeb986179"
      },
      "execution_count": 23,
      "outputs": [
        {
          "output_type": "stream",
          "name": "stdout",
          "text": [
            "Original 1D array:\n",
            "[0 1 2 3 4 5 6 7 8 9]\n",
            "\n",
            "Reshaped into a 2x5 array:\n",
            "[[0 1 2 3 4]\n",
            " [5 6 7 8 9]]\n",
            "\n",
            "Reshaped into a 5x2 array:\n",
            "[[0 1]\n",
            " [2 3]\n",
            " [4 5]\n",
            " [6 7]\n",
            " [8 9]]\n"
          ]
        }
      ]
    },
    {
      "cell_type": "markdown",
      "source": [
        "3. Create a 4x4 NumPy array with random float values. Add a border of zeros around it, resulting in a 6x6 array."
      ],
      "metadata": {
        "id": "MZ710wNkbR7z"
      }
    },
    {
      "cell_type": "code",
      "source": [
        "import numpy as np\n",
        "\n",
        "# Create a 4x4 NumPy array with random float values.\n",
        "array = np.random.rand(4, 4)\n",
        "\n",
        "print(\"Original array:\")\n",
        "print(array)\n",
        "\n",
        "# Create a 6x6 array filled with zeros.\n",
        "padded_array = np.zeros((6, 6))\n",
        "\n",
        "# Copy the original array into the center of the padded array.\n",
        "padded_array[1:5, 1:5] = array\n",
        "\n",
        "print(\"\\nArray with a border of zeros:\")\n",
        "print(padded_array)\n"
      ],
      "metadata": {
        "colab": {
          "base_uri": "https://localhost:8080/"
        },
        "id": "3IaX7BBObS5w",
        "outputId": "a0cc6aed-3943-4089-ec7b-0ae680d0be8f"
      },
      "execution_count": 24,
      "outputs": [
        {
          "output_type": "stream",
          "name": "stdout",
          "text": [
            "Original array:\n",
            "[[0.01354255 0.81663745 0.92079848 0.67129026]\n",
            " [0.33240629 0.40786014 0.49847339 0.05767133]\n",
            " [0.52831742 0.66126825 0.77198847 0.8958513 ]\n",
            " [0.41483571 0.54400422 0.67057234 0.77833025]]\n",
            "\n",
            "Array with a border of zeros:\n",
            "[[0.         0.         0.         0.         0.         0.        ]\n",
            " [0.         0.01354255 0.81663745 0.92079848 0.67129026 0.        ]\n",
            " [0.         0.33240629 0.40786014 0.49847339 0.05767133 0.        ]\n",
            " [0.         0.52831742 0.66126825 0.77198847 0.8958513  0.        ]\n",
            " [0.         0.41483571 0.54400422 0.67057234 0.77833025 0.        ]\n",
            " [0.         0.         0.         0.         0.         0.        ]]\n"
          ]
        }
      ]
    },
    {
      "cell_type": "markdown",
      "source": [
        "4. Using NumPy, create an array of integers from 10 to 60 with a step of 5."
      ],
      "metadata": {
        "id": "PrUNs7b9bgbd"
      }
    },
    {
      "cell_type": "code",
      "source": [
        "import numpy as np\n",
        "\n",
        "# Create an array of integers from 10 to 60 with a step of 5.\n",
        "array = np.arange(10, 61, 5)\n",
        "\n",
        "print(\"Array of integers from 10 to 60 with a step of 5:\")\n",
        "print(array)\n"
      ],
      "metadata": {
        "colab": {
          "base_uri": "https://localhost:8080/"
        },
        "id": "-XkvOutDboSI",
        "outputId": "65fbcb15-9799-455d-a9cd-197d93143dca"
      },
      "execution_count": 25,
      "outputs": [
        {
          "output_type": "stream",
          "name": "stdout",
          "text": [
            "Array of integers from 10 to 60 with a step of 5:\n",
            "[10 15 20 25 30 35 40 45 50 55 60]\n"
          ]
        }
      ]
    },
    {
      "cell_type": "markdown",
      "source": [
        "5. Create a NumPy array of strings ['python', 'numpy', 'pandas']. Apply different case transformations\n",
        "(uppercase, lowercase, title case, etc.) to each element"
      ],
      "metadata": {
        "id": "Zz9MC9q2bybz"
      }
    },
    {
      "cell_type": "code",
      "source": [
        "import numpy as np\n",
        "\n",
        "# Create a NumPy array of strings\n",
        "string_array = np.array(['python', 'numpy', 'pandas'])\n",
        "\n",
        "# Apply different case transformations\n",
        "uppercase_array = np.char.upper(string_array)\n",
        "lowercase_array = np.char.lower(string_array)\n",
        "titlecase_array = np.char.title(string_array)\n",
        "capitalize_array = np.char.capitalize(string_array)\n",
        "\n",
        "print(\"Original array:\")\n",
        "print(string_array)\n",
        "print(\"\\nUppercase array:\")\n",
        "print(uppercase_array)\n",
        "print(\"\\nLowercase array:\")\n",
        "print(lowercase_array)\n",
        "print(\"\\nTitlecase array:\")\n",
        "print(titlecase_array)\n",
        "print(\"\\nCapitalize array:\")\n",
        "print(capitalize_array)\n"
      ],
      "metadata": {
        "colab": {
          "base_uri": "https://localhost:8080/"
        },
        "id": "3M8uqaf3b0IA",
        "outputId": "157eb11a-1cc5-483c-a2be-d6bc0e830e80"
      },
      "execution_count": 26,
      "outputs": [
        {
          "output_type": "stream",
          "name": "stdout",
          "text": [
            "Original array:\n",
            "['python' 'numpy' 'pandas']\n",
            "\n",
            "Uppercase array:\n",
            "['PYTHON' 'NUMPY' 'PANDAS']\n",
            "\n",
            "Lowercase array:\n",
            "['python' 'numpy' 'pandas']\n",
            "\n",
            "Titlecase array:\n",
            "['Python' 'Numpy' 'Pandas']\n",
            "\n",
            "Capitalize array:\n",
            "['Python' 'Numpy' 'Pandas']\n"
          ]
        }
      ]
    },
    {
      "cell_type": "markdown",
      "source": [
        "6. Generate a NumPy array of words. Insert a space between each character of every word in the array"
      ],
      "metadata": {
        "id": "JqptaSe-b8j0"
      }
    },
    {
      "cell_type": "code",
      "source": [
        "import numpy as np\n",
        "\n",
        "# Generate a NumPy array of words\n",
        "words = np.array(['apple', 'banana', 'orange'])\n",
        "\n",
        "# Insert a space between each character of every word\n",
        "spaced_words = np.char.join(' ', words)\n",
        "\n",
        "print(\"Original array:\")\n",
        "print(words)\n",
        "print(\"\\nArray with spaces between characters:\")\n",
        "print(spaced_words)\n"
      ],
      "metadata": {
        "colab": {
          "base_uri": "https://localhost:8080/"
        },
        "id": "QAYzj55lcEPJ",
        "outputId": "f7d7f369-20dd-420f-e8da-5e243e2dea9e"
      },
      "execution_count": 27,
      "outputs": [
        {
          "output_type": "stream",
          "name": "stdout",
          "text": [
            "Original array:\n",
            "['apple' 'banana' 'orange']\n",
            "\n",
            "Array with spaces between characters:\n",
            "['a p p l e' 'b a n a n a' 'o r a n g e']\n"
          ]
        }
      ]
    },
    {
      "cell_type": "markdown",
      "source": [
        "7. Create two 2D NumPy arrays and perform element-wise addition, subtraction, multiplication, and division."
      ],
      "metadata": {
        "id": "5K6mo3tBcW6G"
      }
    },
    {
      "cell_type": "code",
      "source": [
        "import numpy as np\n",
        "\n",
        "# Create two 2D NumPy arrays\n",
        "array1 = np.array([[1, 2], [3, 4]])\n",
        "array2 = np.array([[5, 6], [7, 8]])\n",
        "\n",
        "# Element-wise addition\n",
        "addition_result = np.add(array1, array2)\n",
        "print(\"Element-wise addition:\")\n",
        "print(addition_result)\n",
        "\n",
        "# Element-wise subtraction\n",
        "subtraction_result = np.subtract(array1, array2)\n",
        "print(\"\\nElement-wise subtraction:\")\n",
        "print(subtraction_result)\n",
        "\n",
        "# Element-wise multiplication\n",
        "multiplication_result = np.multiply(array1, array2)\n",
        "print(\"\\nElement-wise multiplication:\")\n",
        "print(multiplication_result)\n",
        "\n",
        "# Element-wise division\n",
        "division_result = np.divide(array1, array2)\n",
        "print(\"\\nElement-wise division:\")\n",
        "print(division_result)\n"
      ],
      "metadata": {
        "colab": {
          "base_uri": "https://localhost:8080/"
        },
        "id": "duo4E-6_cYy8",
        "outputId": "a350c18c-579c-4997-cba3-314989e7ada1"
      },
      "execution_count": 28,
      "outputs": [
        {
          "output_type": "stream",
          "name": "stdout",
          "text": [
            "Element-wise addition:\n",
            "[[ 6  8]\n",
            " [10 12]]\n",
            "\n",
            "Element-wise subtraction:\n",
            "[[-4 -4]\n",
            " [-4 -4]]\n",
            "\n",
            "Element-wise multiplication:\n",
            "[[ 5 12]\n",
            " [21 32]]\n",
            "\n",
            "Element-wise division:\n",
            "[[0.2        0.33333333]\n",
            " [0.42857143 0.5       ]]\n"
          ]
        }
      ]
    },
    {
      "cell_type": "markdown",
      "source": [
        "8. Use NumPy to create a 5x5 identity matrix, then extract its diagonal elements."
      ],
      "metadata": {
        "id": "kuMPGhi1cdpp"
      }
    },
    {
      "cell_type": "code",
      "source": [
        "import numpy as np\n",
        "\n",
        "# Create a 5x5 identity matrix\n",
        "identity_matrix = np.identity(5)\n",
        "\n",
        "print(\"5x5 Identity Matrix:\")\n",
        "print(identity_matrix)\n",
        "\n",
        "# Extract the diagonal elements\n",
        "diagonal_elements = np.diag(identity_matrix)\n",
        "\n",
        "print(\"\\nDiagonal Elements:\")\n",
        "print(diagonal_elements)\n"
      ],
      "metadata": {
        "colab": {
          "base_uri": "https://localhost:8080/"
        },
        "id": "qKuHjuNScqAM",
        "outputId": "f4324346-b1de-4bc7-fa14-b1f3aed22aa4"
      },
      "execution_count": 29,
      "outputs": [
        {
          "output_type": "stream",
          "name": "stdout",
          "text": [
            "5x5 Identity Matrix:\n",
            "[[1. 0. 0. 0. 0.]\n",
            " [0. 1. 0. 0. 0.]\n",
            " [0. 0. 1. 0. 0.]\n",
            " [0. 0. 0. 1. 0.]\n",
            " [0. 0. 0. 0. 1.]]\n",
            "\n",
            "Diagonal Elements:\n",
            "[1. 1. 1. 1. 1.]\n"
          ]
        }
      ]
    },
    {
      "cell_type": "markdown",
      "source": [
        "9. Generate a NumPy array of 100 random integers between 0 and 1000. Find and display all prime numbers in\n",
        "this array"
      ],
      "metadata": {
        "id": "4PCKRgSWcuny"
      }
    },
    {
      "cell_type": "code",
      "source": [
        "import numpy as np\n",
        "\n",
        "def is_prime(n):\n",
        "  \"\"\"Checks if a number is prime.\"\"\"\n",
        "  if n <= 1:\n",
        "    return False\n",
        "  for i in range(2, int(n**0.5) + 1):\n",
        "    if n % i == 0:\n",
        "      return False\n",
        "  return True\n",
        "\n",
        "# Generate a NumPy array of 100 random integers between 0 and 1000.\n",
        "random_array = np.random.randint(0, 1001, size=100)\n",
        "\n",
        "# Find and display all prime numbers in the array.\n",
        "prime_numbers = [num for num in random_array if is_prime(num)]\n",
        "\n",
        "print(\"Original array:\")\n",
        "print(random_array)\n",
        "print(\"\\nPrime numbers in the array:\")\n",
        "print(prime_numbers)\n"
      ],
      "metadata": {
        "colab": {
          "base_uri": "https://localhost:8080/"
        },
        "id": "HMVFpluTc7DG",
        "outputId": "770f3cbd-77ec-4e0c-bfea-1c0144c82660"
      },
      "execution_count": 30,
      "outputs": [
        {
          "output_type": "stream",
          "name": "stdout",
          "text": [
            "Original array:\n",
            "[191 480 821 980  72 179 773 537 818 182 905 661  77 587 461 701 846 615\n",
            " 754 277 949  12 312 710 288 832 106 313 403 896 746 109 936 913 452 366\n",
            " 984 465 586 566 678 729  73 879 945 990 869 400  18  43 301 353 470 312\n",
            " 557 620 809 840 369 363 639 893 724  35  31 993 426 564 532 530  87 811\n",
            " 786 474 900 294 705 432 355 340 436 726 492 636 728  31   0 789 416 758\n",
            " 110 696 715 191 470 813 389 181 668 953]\n",
            "\n",
            "Prime numbers in the array:\n",
            "[191, 821, 179, 773, 661, 587, 461, 701, 277, 313, 109, 73, 43, 353, 557, 809, 31, 811, 31, 191, 389, 181, 953]\n"
          ]
        }
      ]
    },
    {
      "cell_type": "markdown",
      "source": [
        "10. Create a NumPy array representing daily temperatures for a month. Calculate and display the weekly\n",
        "averages."
      ],
      "metadata": {
        "id": "uAILyOWidFsu"
      }
    },
    {
      "cell_type": "code",
      "source": [
        "import numpy as np\n",
        "\n",
        "# Create a NumPy array representing daily temperatures for a month (30 days).\n",
        "temperatures = np.random.randint(15, 35, size=30)\n",
        "\n",
        "print(\"Daily Temperatures:\")\n",
        "print(temperatures)\n",
        "\n",
        "# Calculate weekly averages.\n",
        "weekly_averages = []\n",
        "for i in range(0, len(temperatures), 7):\n",
        "  week_temps = temperatures[i:i+7]\n",
        "  if len(week_temps) > 0:\n",
        "    weekly_average = np.mean(week_temps)\n",
        "    weekly_averages.append(weekly_average)\n",
        "\n",
        "print(\"\\nWeekly Averages:\")\n",
        "print(weekly_averages)\n"
      ],
      "metadata": {
        "colab": {
          "base_uri": "https://localhost:8080/"
        },
        "id": "hl_6pDdWdHZ0",
        "outputId": "dd856fce-4d42-41a1-c9c3-91053b13b3f5"
      },
      "execution_count": 31,
      "outputs": [
        {
          "output_type": "stream",
          "name": "stdout",
          "text": [
            "Daily Temperatures:\n",
            "[31 23 21 21 27 25 31 33 30 34 20 30 19 24 21 32 23 29 20 22 25 31 34 32\n",
            " 18 31 16 27 31 26]\n",
            "\n",
            "Weekly Averages:\n",
            "[25.571428571428573, 27.142857142857142, 24.571428571428573, 27.0, 28.5]\n"
          ]
        }
      ]
    }
  ]
}