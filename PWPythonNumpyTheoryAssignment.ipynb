{
  "nbformat": 4,
  "nbformat_minor": 0,
  "metadata": {
    "colab": {
      "provenance": [],
      "authorship_tag": "ABX9TyMAY+4yxY5YcpW69g/EatRZ"
    },
    "kernelspec": {
      "name": "python3",
      "display_name": "Python 3"
    },
    "language_info": {
      "name": "python"
    }
  },
  "cells": [
    {
      "cell_type": "markdown",
      "source": [
        "1. Explain the purpose and advantages of NumPy in scientific computing and data analysis. How does it\n",
        "enhance Python's capabilities for numerical operations?"
      ],
      "metadata": {
        "id": "fR-Gc-E4UmXk"
      }
    },
    {
      "cell_type": "code",
      "source": [
        "# NumPy (Numerical Python) is a fundamental library for scientific computing in Python. It provides powerful tools for working with arrays and matrices,\n",
        "# enabling efficient numerical operations and data analysis.\n",
        "\n",
        "# Advantages:\n",
        "# 1. Efficient Array Operations:\n",
        "#    - NumPy arrays are highly optimized for numerical operations, offering significantly faster performance compared to Python lists.\n",
        "#    - This is achieved through contiguous memory allocation and vectorized operations that leverage optimized C code.\n",
        "\n",
        "# 2. Mathematical Functions:\n",
        "#    - NumPy provides a vast collection of mathematical functions for linear algebra, Fourier transforms, random number generation, and more.\n",
        "#    - These functions are optimized for array operations and are essential for scientific and engineering applications.\n",
        "\n",
        "# 3. Broadcasting:\n",
        "#    - NumPy's broadcasting feature allows for element-wise operations on arrays of different shapes, simplifying calculations and reducing the need for loops.\n",
        "\n",
        "# 4. Integration with Other Libraries:\n",
        "#    - NumPy serves as the foundation for many other scientific computing libraries in Python, such as SciPy, Pandas, and scikit-learn.\n",
        "#    - Its seamless integration facilitates data exchange and analysis across different domains.\n",
        "\n",
        "# 5. Data Manipulation:\n",
        "#    - NumPy provides tools for manipulating arrays, including indexing, slicing, reshaping, sorting, and searching.\n",
        "#    - These capabilities are crucial for data preprocessing and analysis tasks.\n",
        "\n",
        "# How NumPy enhances Python's capabilities for numerical operations:\n",
        "# - Python alone is not ideal for computationally intensive tasks due to its interpreted nature.\n",
        "# - NumPy leverages optimized C code for its core functionalities, enabling faster execution of numerical operations.\n",
        "# - Its array data structure and mathematical functions greatly simplify working with numerical data and performing complex calculations.\n",
        "# - By providing tools for vectorized operations, broadcasting, and array manipulation, NumPy significantly improves the efficiency and ease of use for numerical computations in Python.\n",
        "\n",
        "# Example:\n",
        "# Python Lists vs Numpy Array\n",
        "\n",
        "import numpy as np\n",
        "import time\n",
        "\n",
        "# Python List\n",
        "python_list = list(range(1000000))\n",
        "start_time = time.time()\n",
        "result_list = [x * 2 for x in python_list]\n",
        "end_time = time.time()\n",
        "print(f\"Python List Time: {end_time - start_time} seconds\")\n",
        "\n",
        "# NumPy Array\n",
        "numpy_array = np.arange(1000000)\n",
        "start_time = time.time()\n",
        "result_array = numpy_array * 2\n",
        "end_time = time.time()\n",
        "print(f\"NumPy Array Time: {end_time - start_time} seconds\")\n",
        "\n",
        "# As you can see, NumPy arrays perform much faster for numerical operations.\n"
      ],
      "metadata": {
        "colab": {
          "base_uri": "https://localhost:8080/"
        },
        "id": "JCsT8PHsUmkZ",
        "outputId": "20864baa-ca33-41ef-c859-e615a316b257"
      },
      "execution_count": 23,
      "outputs": [
        {
          "output_type": "stream",
          "name": "stdout",
          "text": [
            "Python List Time: 0.14045357704162598 seconds\n",
            "NumPy Array Time: 0.0017397403717041016 seconds\n"
          ]
        }
      ]
    },
    {
      "cell_type": "markdown",
      "source": [
        "2. Compare and contrast np.mean() and np.average() functions in NumPy. When would you use one over the\n",
        "other?"
      ],
      "metadata": {
        "id": "DNZF5HwvUrpD"
      }
    },
    {
      "cell_type": "code",
      "source": [
        "import numpy as np\n",
        "\n",
        "# np.mean() and np.average() both calculate the average of an array, but they differ in how they handle weights.\n",
        "\n",
        "# np.mean() calculates the arithmetic mean, which is the sum of the elements divided by the number of elements.\n",
        "# It's suitable for finding the simple average of a dataset.\n",
        "\n",
        "# np.average() allows for weighted averaging. It takes an optional 'weights' argument, which can be an array of weights corresponding to each element in the input array.\n",
        "# This is useful when some elements in the dataset should contribute more to the average than others.\n",
        "\n",
        "# Example:\n",
        "data = np.array([1, 2, 3, 4, 5])\n",
        "\n",
        "# Using np.mean()\n",
        "mean = np.mean(data)\n",
        "print(f\"Mean using np.mean(): {mean}\")\n",
        "\n",
        "# Using np.average() with equal weights\n",
        "average_equal_weights = np.average(data)\n",
        "print(f\"Average using np.average() with equal weights: {average_equal_weights}\")\n",
        "\n",
        "# Using np.average() with custom weights\n",
        "weights = np.array([0.1, 0.2, 0.3, 0.2, 0.2])\n",
        "average_weighted = np.average(data, weights=weights)\n",
        "print(f\"Average using np.average() with custom weights: {average_weighted}\")\n",
        "\n",
        "# When to use np.mean():\n",
        "# - When you need to find the simple arithmetic mean of a dataset.\n",
        "# - When all elements should contribute equally to the average.\n",
        "\n",
        "# When to use np.average():\n",
        "# - When you need to calculate a weighted average, where some elements have more importance than others.\n",
        "# - For example, in calculating a grade point average (GPA) where different courses have different credit weights.\n",
        "\n",
        "# In summary, np.mean() is for unweighted averages, and np.average() is for weighted averages."
      ],
      "metadata": {
        "colab": {
          "base_uri": "https://localhost:8080/"
        },
        "id": "OrpkFHTGU35C",
        "outputId": "3313b2d6-cb26-41ba-e193-2672af6c5577"
      },
      "execution_count": 24,
      "outputs": [
        {
          "output_type": "stream",
          "name": "stdout",
          "text": [
            "Mean using np.mean(): 3.0\n",
            "Average using np.average() with equal weights: 3.0\n",
            "Average using np.average() with custom weights: 3.2\n"
          ]
        }
      ]
    },
    {
      "cell_type": "markdown",
      "source": [],
      "metadata": {
        "id": "XqT225YpVLQZ"
      }
    },
    {
      "cell_type": "markdown",
      "source": [
        "3. Describe the methods for reversing a NumPy array along different axes. Provide examples for 1D and 2D\n",
        "arrays"
      ],
      "metadata": {
        "id": "LMbG4xSrVMc7"
      }
    },
    {
      "cell_type": "code",
      "source": [
        "# For 1D arrays:\n",
        "\n",
        "arr_1d = np.array([1, 2, 3, 4, 5])\n",
        "reversed_arr_1d = arr_1d[::-1]\n",
        "print(f\"Original 1D array: {arr_1d}\")\n",
        "print(f\"Reversed 1D array: {reversed_arr_1d}\")\n",
        "\n",
        "\n",
        "# For 2D arrays:\n",
        "\n",
        "arr_2d = np.array([[1, 2, 3], [4, 5, 6], [7, 8, 9]])\n",
        "print(f\"Original 2D array:\\n{arr_2d}\")\n",
        "\n",
        "# Reverse along the first axis (rows):\n",
        "reversed_rows_arr_2d = arr_2d[::-1, :]\n",
        "print(f\"Reversed rows 2D array:\\n{reversed_rows_arr_2d}\")\n",
        "\n",
        "\n",
        "# Reverse along the second axis (columns):\n",
        "reversed_cols_arr_2d = arr_2d[:, ::-1]\n",
        "print(f\"Reversed columns 2D array:\\n{reversed_cols_arr_2d}\")\n",
        "\n",
        "\n",
        "# Reverse along both axes:\n",
        "reversed_both_axes_arr_2d = arr_2d[::-1, ::-1]\n",
        "print(f\"Reversed both axes 2D array:\\n{reversed_both_axes_arr_2d}\")"
      ],
      "metadata": {
        "colab": {
          "base_uri": "https://localhost:8080/"
        },
        "id": "rD8z1Q0-V1Sx",
        "outputId": "f599fb20-db21-4e97-b204-a35c4bad2a82"
      },
      "execution_count": 25,
      "outputs": [
        {
          "output_type": "stream",
          "name": "stdout",
          "text": [
            "Original 1D array: [1 2 3 4 5]\n",
            "Reversed 1D array: [5 4 3 2 1]\n",
            "Original 2D array:\n",
            "[[1 2 3]\n",
            " [4 5 6]\n",
            " [7 8 9]]\n",
            "Reversed rows 2D array:\n",
            "[[7 8 9]\n",
            " [4 5 6]\n",
            " [1 2 3]]\n",
            "Reversed columns 2D array:\n",
            "[[3 2 1]\n",
            " [6 5 4]\n",
            " [9 8 7]]\n",
            "Reversed both axes 2D array:\n",
            "[[9 8 7]\n",
            " [6 5 4]\n",
            " [3 2 1]]\n"
          ]
        }
      ]
    },
    {
      "cell_type": "markdown",
      "source": [
        "4. How can you determine the data type of elements in a NumPy array? Discuss the importance of data types\n",
        "in memory management and performance."
      ],
      "metadata": {
        "id": "eccd6eVwWCaO"
      }
    },
    {
      "cell_type": "code",
      "source": [
        "import numpy as np\n",
        "\n",
        "# Create a NumPy array\n",
        "arr = np.array([1, 2, 3, 4, 5])\n",
        "\n",
        "# Determine the data type of the elements\n",
        "data_type = arr.dtype\n",
        "\n",
        "print(f\"Data type of the array: {data_type}\")\n",
        "\n",
        "# Importance of data types in memory management and performance:\n",
        "\n",
        "# Memory Management:\n",
        "# - Data types determine how much memory is allocated for each element in the array.\n",
        "# - Choosing the appropriate data type for your data can significantly reduce memory usage,\n",
        "#   especially when dealing with large datasets. For example, using int8 instead of int64\n",
        "#   for storing small integer values will save memory.\n",
        "\n",
        "# Performance:\n",
        "# - Data types influence the speed of computations. Operations on arrays with compatible data types\n",
        "#   are generally faster than operations involving type conversions.\n",
        "# - NumPy performs type checks and potential conversions during operations, which can lead to performance\n",
        "#   degradation. Using consistent data types throughout your code can improve execution speed.\n",
        "\n",
        "# Example:\n",
        "\n",
        "# Array with int32 data type\n",
        "arr_int32 = np.array([1, 2, 3], dtype=np.int32)\n",
        "print(f\"Size of int32 array: {arr_int32.nbytes}\")\n",
        "\n",
        "# Array with int8 data type\n",
        "arr_int8 = np.array([1, 2, 3], dtype=np.int8)\n",
        "print(f\"Size of int8 array: {arr_int8.nbytes}\")\n",
        "\n",
        "# As you can see, the int8 array occupies less memory than the int32 array.\n",
        "\n",
        "# In summary, understanding data types is crucial for efficient memory management and performance\n",
        "# optimization when working with NumPy arrays. It allows you to choose the appropriate data type for\n",
        "# your data, minimize memory usage, and maximize the speed of calculations.\n"
      ],
      "metadata": {
        "colab": {
          "base_uri": "https://localhost:8080/"
        },
        "id": "jNClHDoYWS0N",
        "outputId": "231d5b23-8a92-427b-c74f-4bac73f2cd1e"
      },
      "execution_count": 26,
      "outputs": [
        {
          "output_type": "stream",
          "name": "stdout",
          "text": [
            "Data type of the array: int64\n",
            "Size of int32 array: 12\n",
            "Size of int8 array: 3\n"
          ]
        }
      ]
    },
    {
      "cell_type": "markdown",
      "source": [
        "\n",
        "5. Define ndarrays in NumPy and explain their key features. How do they differ from standard Python lists?\n",
        "\n",
        "\n"
      ],
      "metadata": {
        "id": "8J445KgmWXXT"
      }
    },
    {
      "cell_type": "code",
      "source": [
        "# In NumPy, an ndarray is a multidimensional container for homogeneous data, meaning all elements must have the same data type.\n",
        "# It's the fundamental data structure in NumPy and provides efficient storage and manipulation of numerical data.\n",
        "\n",
        "# Key features of ndarrays:\n",
        "\n",
        "# 1. Homogeneous Data Type: All elements in an ndarray must have the same data type (e.g., int, float, complex). This allows for optimized memory allocation and operations.\n",
        "# 2. Multidimensional: ndarrays can have any number of dimensions, from 1D (vectors) to higher dimensions (matrices, tensors).\n",
        "# 3. Shape and Size: The shape of an ndarray is a tuple representing the size of each dimension. The size of an ndarray is the total number of elements.\n",
        "# 4. Data Type: The dtype attribute specifies the data type of the elements.\n",
        "# 5. Fast Element-wise Operations: ndarrays allow for fast element-wise operations using vectorization, which avoids the need for explicit loops.\n",
        "# 6. Broadcasting: This feature allows for arithmetic operations between arrays of different shapes under specific conditions, making code concise and efficient.\n",
        "\n",
        "# Differences from Python lists:\n",
        "\n",
        "# | Feature       | NumPy ndarray                     | Python List                          |\n",
        "# |-------------- |-----------------------------------|------------------------------------  |\n",
        "# | Data Type     | Homogeneous                       | Can contain different data types     |\n",
        "# | Memory Usage  | Efficient (contiguous memory)     | Less efficient (pointers to objects) |\n",
        "# | Performance   | Faster for numerical operations   | Slower for numerical operations      |\n",
        "# | Functionality | Specialized for numerical tasks   | General-purpose data structure       |\n",
        "# | Vectorization | Supported                         | Not natively supported               |\n",
        "# | Broadcasting  | Supported                         | Not supported                        |\n",
        "\n",
        "# Example:\n",
        "\n",
        "# Python List\n",
        "python_list = [1, 2, 3, 4, 5]\n",
        "\n",
        "# NumPy ndarray\n",
        "numpy_array = np.array([1, 2, 3, 4, 5])\n",
        "\n",
        "# Show different features\n",
        "print(f\"Data type of Python list: {type(python_list)}\")\n",
        "print(f\"Data type of NumPy array: {type(numpy_array)}\")\n",
        "\n",
        "print(f\"Data type of elements in NumPy array: {numpy_array.dtype}\")\n",
        "\n",
        "print(f\"Shape of NumPy array: {numpy_array.shape}\")\n",
        "\n",
        "# Multiply all elements in the list by 2 (Python list)\n",
        "multiplied_list = [x * 2 for x in python_list]\n",
        "print(f\"Python list multiplied by 2: {multiplied_list}\")\n",
        "\n",
        "# Multiply all elements in the array by 2 (NumPy ndarray)\n",
        "multiplied_array = numpy_array * 2\n",
        "print(f\"NumPy array multiplied by 2: {multiplied_array}\")"
      ],
      "metadata": {
        "colab": {
          "base_uri": "https://localhost:8080/"
        },
        "id": "uuGC5IxYWn5y",
        "outputId": "bd0f474d-b980-4d36-d0ec-249574bc0f22"
      },
      "execution_count": 27,
      "outputs": [
        {
          "output_type": "stream",
          "name": "stdout",
          "text": [
            "Data type of Python list: <class 'list'>\n",
            "Data type of NumPy array: <class 'numpy.ndarray'>\n",
            "Data type of elements in NumPy array: int64\n",
            "Shape of NumPy array: (5,)\n",
            "Python list multiplied by 2: [2, 4, 6, 8, 10]\n",
            "NumPy array multiplied by 2: [ 2  4  6  8 10]\n"
          ]
        }
      ]
    },
    {
      "cell_type": "markdown",
      "source": [
        "6. Analyze the performance benefits of NumPy arrays over Python lists for large-scale numerical operations"
      ],
      "metadata": {
        "id": "yLuBOspcXXnG"
      }
    },
    {
      "cell_type": "code",
      "source": [
        "import numpy as np\n",
        "import time\n",
        "\n",
        "# Define the size of the arrays/lists\n",
        "size = 1000000\n",
        "\n",
        "# Create a Python list\n",
        "python_list = list(range(size))\n",
        "\n",
        "# Create a NumPy array\n",
        "numpy_array = np.arange(size)\n",
        "\n",
        "# Measure the time taken for element-wise multiplication using Python list\n",
        "start_time = time.time()\n",
        "result_list = [x * 2 for x in python_list]\n",
        "end_time = time.time()\n",
        "python_list_time = end_time - start_time\n",
        "\n",
        "# Measure the time taken for element-wise multiplication using NumPy array\n",
        "start_time = time.time()\n",
        "result_array = numpy_array * 2\n",
        "end_time = time.time()\n",
        "numpy_array_time = end_time - start_time\n",
        "\n",
        "# Print the results\n",
        "print(f\"Python List Time: {python_list_time:.6f} seconds\")\n",
        "print(f\"NumPy Array Time: {numpy_array_time:.6f} seconds\")\n",
        "\n",
        "# Calculate the performance improvement\n",
        "performance_improvement = python_list_time / numpy_array_time\n",
        "print(f\"Performance improvement of NumPy over Python List: {performance_improvement:.2f} times\")\n",
        "\n",
        "\n",
        "# Analysis:\n",
        "# The code demonstrates the significant performance advantage of NumPy arrays over Python lists for large-scale numerical operations.\n",
        "# NumPy arrays are significantly faster because:\n",
        "\n",
        "# 1. Vectorized Operations: NumPy performs operations on entire arrays at once (vectorized operations), which is much faster than iterating through elements in a Python list using a loop.\n",
        "# 2. Optimized C Code: NumPy is implemented in C and uses highly optimized algorithms for numerical operations, making it much more efficient than Python's interpreted code.\n",
        "# 3. Contiguous Memory: NumPy arrays store elements in contiguous memory blocks, which allows for faster access and manipulation of data compared to Python lists that store elements as pointers.\n",
        "\n",
        "# Conclusion:\n",
        "# For numerical computations and data analysis tasks involving large datasets, NumPy arrays are the preferred choice due to their superior performance and efficiency compared to Python lists.\n"
      ],
      "metadata": {
        "colab": {
          "base_uri": "https://localhost:8080/"
        },
        "id": "p0NOfct3XfLJ",
        "outputId": "47fe63bb-7e5a-4fb4-e247-88cf881b046c"
      },
      "execution_count": 28,
      "outputs": [
        {
          "output_type": "stream",
          "name": "stdout",
          "text": [
            "Python List Time: 0.080248 seconds\n",
            "NumPy Array Time: 0.006810 seconds\n",
            "Performance improvement of NumPy over Python List: 11.78 times\n"
          ]
        }
      ]
    },
    {
      "cell_type": "markdown",
      "source": [
        "7. Compare vstack() and hstack() functions in NumPy. Provide examples demonstrating their usage and\n",
        "output"
      ],
      "metadata": {
        "id": "cPu_NyxbXiWy"
      }
    },
    {
      "cell_type": "code",
      "source": [
        "import numpy as np\n",
        "\n",
        "# Create two sample arrays\n",
        "arr1 = np.array([1, 2, 3])\n",
        "arr2 = np.array([4, 5, 6])\n",
        "\n",
        "# Vertical stacking using vstack()\n",
        "vstack_result = np.vstack((arr1, arr2))\n",
        "print(\"Vertical Stacking (vstack()):\\n\", vstack_result)\n",
        "\n",
        "# Horizontal stacking using hstack()\n",
        "hstack_result = np.hstack((arr1, arr2))\n",
        "print(\"\\nHorizontal Stacking (hstack()):\\n\", hstack_result)\n",
        "\n",
        "\n",
        "# Example with 2D arrays\n",
        "arr3 = np.array([[1, 2], [3, 4]])\n",
        "arr4 = np.array([[5, 6], [7, 8]])\n",
        "\n",
        "# Vertical stacking using vstack()\n",
        "vstack_result_2d = np.vstack((arr3, arr4))\n",
        "print(\"\\nVertical Stacking (vstack()) with 2D arrays:\\n\", vstack_result_2d)\n",
        "\n",
        "# Horizontal stacking using hstack()\n",
        "hstack_result_2d = np.hstack((arr3, arr4))\n",
        "print(\"\\nHorizontal Stacking (hstack()) with 2D arrays:\\n\", hstack_result_2d)\n",
        "\n",
        "\n",
        "# Summary:\n",
        "# - vstack(): Stacks arrays vertically, creating a new array with rows from the input arrays appended one after the other.\n",
        "# - hstack(): Stacks arrays horizontally, creating a new array with columns from the input arrays appended one after the other.\n"
      ],
      "metadata": {
        "colab": {
          "base_uri": "https://localhost:8080/"
        },
        "id": "pHR8hdTEXi3s",
        "outputId": "43514851-032b-49ec-8687-a8517c75daf3"
      },
      "execution_count": 29,
      "outputs": [
        {
          "output_type": "stream",
          "name": "stdout",
          "text": [
            "Vertical Stacking (vstack()):\n",
            " [[1 2 3]\n",
            " [4 5 6]]\n",
            "\n",
            "Horizontal Stacking (hstack()):\n",
            " [1 2 3 4 5 6]\n",
            "\n",
            "Vertical Stacking (vstack()) with 2D arrays:\n",
            " [[1 2]\n",
            " [3 4]\n",
            " [5 6]\n",
            " [7 8]]\n",
            "\n",
            "Horizontal Stacking (hstack()) with 2D arrays:\n",
            " [[1 2 5 6]\n",
            " [3 4 7 8]]\n"
          ]
        }
      ]
    },
    {
      "cell_type": "markdown",
      "source": [
        "8. Explain the differences between fliplr() and flipud() methods in NumPy, including their effects on various\n",
        "array dimensions."
      ],
      "metadata": {
        "id": "XjJjLr2RXrWH"
      }
    },
    {
      "cell_type": "code",
      "source": [
        "import numpy as np\n",
        "\n",
        "# Create a 2D array\n",
        "arr_2d = np.array([[1, 2, 3],\n",
        "                  [4, 5, 6],\n",
        "                  [7, 8, 9]])\n",
        "\n",
        "# Fliplr: Flips the array in the left/right direction (along the second axis).\n",
        "flipped_lr = np.fliplr(arr_2d)\n",
        "print(\"Original 2D array:\\n\", arr_2d)\n",
        "print(\"\\nFlipped left/right (fliplr):\\n\", flipped_lr)\n",
        "\n",
        "# Flipud: Flips the array in the up/down direction (along the first axis).\n",
        "flipped_ud = np.flipud(arr_2d)\n",
        "print(\"\\nFlipped up/down (flipud):\\n\", flipped_ud)\n",
        "\n",
        "# Create a 3D array\n",
        "arr_3d = np.array([[[1, 2], [3, 4]],\n",
        "                  [[5, 6], [7, 8]],\n",
        "                  [[9, 10], [11, 12]]])\n",
        "\n",
        "# Fliplr on a 3D array: Flips each 2D slice along the second axis.\n",
        "flipped_lr_3d = np.fliplr(arr_3d)\n",
        "print(\"\\nOriginal 3D array:\\n\", arr_3d)\n",
        "print(\"\\nFlipped left/right (fliplr) on 3D array:\\n\", flipped_lr_3d)\n",
        "\n",
        "# Flipud on a 3D array: Flips each 2D slice along the first axis.\n",
        "flipped_ud_3d = np.flipud(arr_3d)\n",
        "print(\"\\nFlipped up/down (flipud) on 3D array:\\n\", flipped_ud_3d)\n",
        "\n",
        "# Summary:\n",
        "# - fliplr(): Reverses the order of elements along the second axis (columns) of the array.\n",
        "# - flipud(): Reverses the order of elements along the first axis (rows) of the array.\n",
        "\n",
        "# In higher-dimensional arrays, fliplr() and flipud() operate on the corresponding axes:\n",
        "# - fliplr(): Flips the array along the axis representing the horizontal direction.\n",
        "# - flipud(): Flips the array along the axis representing the vertical direction.\n"
      ],
      "metadata": {
        "colab": {
          "base_uri": "https://localhost:8080/"
        },
        "id": "4r19IYFeXwyh",
        "outputId": "5b32adb3-3cb4-437b-85d7-77dfb1eb6b54"
      },
      "execution_count": 30,
      "outputs": [
        {
          "output_type": "stream",
          "name": "stdout",
          "text": [
            "Original 2D array:\n",
            " [[1 2 3]\n",
            " [4 5 6]\n",
            " [7 8 9]]\n",
            "\n",
            "Flipped left/right (fliplr):\n",
            " [[3 2 1]\n",
            " [6 5 4]\n",
            " [9 8 7]]\n",
            "\n",
            "Flipped up/down (flipud):\n",
            " [[7 8 9]\n",
            " [4 5 6]\n",
            " [1 2 3]]\n",
            "\n",
            "Original 3D array:\n",
            " [[[ 1  2]\n",
            "  [ 3  4]]\n",
            "\n",
            " [[ 5  6]\n",
            "  [ 7  8]]\n",
            "\n",
            " [[ 9 10]\n",
            "  [11 12]]]\n",
            "\n",
            "Flipped left/right (fliplr) on 3D array:\n",
            " [[[ 3  4]\n",
            "  [ 1  2]]\n",
            "\n",
            " [[ 7  8]\n",
            "  [ 5  6]]\n",
            "\n",
            " [[11 12]\n",
            "  [ 9 10]]]\n",
            "\n",
            "Flipped up/down (flipud) on 3D array:\n",
            " [[[ 9 10]\n",
            "  [11 12]]\n",
            "\n",
            " [[ 5  6]\n",
            "  [ 7  8]]\n",
            "\n",
            " [[ 1  2]\n",
            "  [ 3  4]]]\n"
          ]
        }
      ]
    },
    {
      "cell_type": "markdown",
      "source": [
        "9. Discuss the functionality of the array_split() method in NumPy. How does it handle uneven splits?"
      ],
      "metadata": {
        "id": "yVRm8KXhX5sv"
      }
    },
    {
      "cell_type": "code",
      "source": [
        "import numpy as np\n",
        "\n",
        "# Create a sample array\n",
        "arr = np.array([1, 2, 3, 4, 5, 6, 7, 8])\n",
        "\n",
        "# Split the array into 3 sub-arrays\n",
        "sub_arrays = np.array_split(arr, 3)\n",
        "\n",
        "print(\"Original array:\", arr)\n",
        "print(\"\\nSub-arrays after splitting:\")\n",
        "for i, sub_array in enumerate(sub_arrays):\n",
        "    print(f\"Sub-array {i+1}: {sub_array}\")\n",
        "\n",
        "\n",
        "# Example with uneven splits\n",
        "arr2 = np.array([1, 2, 3, 4, 5, 6, 7])\n",
        "sub_arrays2 = np.array_split(arr2, 3)\n",
        "\n",
        "print(\"\\nOriginal array with uneven split:\", arr2)\n",
        "print(\"\\nSub-arrays after uneven splitting:\")\n",
        "for i, sub_array in enumerate(sub_arrays2):\n",
        "    print(f\"Sub-array {i+1}: {sub_array}\")\n",
        "\n",
        "\n",
        "# Explanation:\n",
        "\n",
        "# The array_split() method in NumPy splits an array into multiple sub-arrays of (nearly) equal size.\n",
        "# - It takes the array and the number of splits as input.\n",
        "# - It returns a list of sub-arrays.\n",
        "\n",
        "# Handling uneven splits:\n",
        "# If the array cannot be split into equal-sized sub-arrays, array_split() tries to distribute the extra elements as evenly as possible among the sub-arrays.\n",
        "# The last sub-array might have a different size than the others.\n",
        "\n",
        "# In the provided examples:\n",
        "# - arr is split into 3 sub-arrays of (nearly) equal size.\n",
        "# - arr2 is split into 3 sub-arrays, and the extra element is assigned to the last sub-array.\n",
        "\n",
        "\n"
      ],
      "metadata": {
        "colab": {
          "base_uri": "https://localhost:8080/"
        },
        "id": "D-anXQbPX6RS",
        "outputId": "effeb7f4-47b4-4818-f391-977d5faaa4d4"
      },
      "execution_count": 31,
      "outputs": [
        {
          "output_type": "stream",
          "name": "stdout",
          "text": [
            "Original array: [1 2 3 4 5 6 7 8]\n",
            "\n",
            "Sub-arrays after splitting:\n",
            "Sub-array 1: [1 2 3]\n",
            "Sub-array 2: [4 5 6]\n",
            "Sub-array 3: [7 8]\n",
            "\n",
            "Original array with uneven split: [1 2 3 4 5 6 7]\n",
            "\n",
            "Sub-arrays after uneven splitting:\n",
            "Sub-array 1: [1 2 3]\n",
            "Sub-array 2: [4 5]\n",
            "Sub-array 3: [6 7]\n"
          ]
        }
      ]
    },
    {
      "cell_type": "markdown",
      "source": [
        "10. Explain the concepts of vectorization and broadcasting in NumPy. How do they contribute to efficient array\n",
        "operations?"
      ],
      "metadata": {
        "id": "5_XgOU42YGZy"
      }
    },
    {
      "cell_type": "code",
      "source": [
        "import numpy as np\n",
        "\n",
        "# Vectorization:\n",
        "\n",
        "# Vectorization in NumPy refers to performing operations on entire arrays at once, rather than iterating through elements individually.\n",
        "# It leverages optimized C code and allows for faster execution of operations.\n",
        "\n",
        "# Example: Element-wise multiplication\n",
        "\n",
        "arr1 = np.array([1, 2, 3])\n",
        "arr2 = np.array([4, 5, 6])\n",
        "\n",
        "# Using a loop (inefficient)\n",
        "result_loop = []\n",
        "for i in range(len(arr1)):\n",
        "    result_loop.append(arr1[i] * arr2[i])\n",
        "\n",
        "# Using vectorization (efficient)\n",
        "result_vectorized = arr1 * arr2\n",
        "\n",
        "print(\"Result using loop:\", result_loop)\n",
        "print(\"Result using vectorization:\", result_vectorized)\n",
        "\n",
        "# Broadcasting:\n",
        "\n",
        "# Broadcasting is a mechanism that allows NumPy to perform operations on arrays with different shapes, under specific conditions.\n",
        "# It automatically expands the smaller array to match the shape of the larger array before performing the operation.\n",
        "\n",
        "# Example: Adding a scalar to an array\n",
        "\n",
        "arr = np.array([1, 2, 3])\n",
        "scalar = 5\n",
        "\n",
        "# Adding the scalar to each element of the array using broadcasting\n",
        "result_broadcasting = arr + scalar\n",
        "\n",
        "print(\"Result of broadcasting:\", result_broadcasting)\n",
        "\n",
        "\n",
        "# Example: Adding a row vector to a matrix\n",
        "\n",
        "matrix = np.array([[1, 2, 3], [4, 5, 6]])\n",
        "row_vector = np.array([10, 20, 30])\n",
        "\n",
        "# Adding the row vector to each row of the matrix using broadcasting\n",
        "result_matrix_broadcasting = matrix + row_vector\n",
        "\n",
        "print(\"Result of matrix broadcasting:\", result_matrix_broadcasting)\n",
        "\n",
        "# How they contribute to efficient array operations:\n",
        "\n",
        "# - Vectorization:\n",
        "#     - Eliminates the need for explicit loops, resulting in faster execution.\n",
        "#     - Leverages optimized C code for efficient array operations.\n",
        "\n",
        "# - Broadcasting:\n",
        "#     - Allows for concise and efficient code when working with arrays of different shapes.\n",
        "#     - Eliminates the need to manually reshape or replicate arrays, simplifying calculations.\n",
        "\n",
        "# By combining vectorization and broadcasting, NumPy facilitates efficient execution of complex mathematical and array operations,\n",
        "# making it a powerful tool for scientific computing and data analysis.\n"
      ],
      "metadata": {
        "colab": {
          "base_uri": "https://localhost:8080/"
        },
        "id": "4unv4k_DYVaF",
        "outputId": "76dbeee2-43fa-45c6-9f9e-16b939713a00"
      },
      "execution_count": 32,
      "outputs": [
        {
          "output_type": "stream",
          "name": "stdout",
          "text": [
            "Result using loop: [4, 10, 18]\n",
            "Result using vectorization: [ 4 10 18]\n",
            "Result of broadcasting: [6 7 8]\n",
            "Result of matrix broadcasting: [[11 22 33]\n",
            " [14 25 36]]\n"
          ]
        }
      ]
    }
  ]
}